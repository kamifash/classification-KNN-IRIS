{
 "cells": [
  {
   "cell_type": "code",
   "execution_count": 5,
   "metadata": {},
   "outputs": [
    {
     "ename": "NotFittedError",
     "evalue": "This KNeighborsClassifier instance is not fitted yet. Call 'fit' with appropriate arguments before using this estimator.",
     "output_type": "error",
     "traceback": [
      "\u001b[1;31m---------------------------------------------------------------------------\u001b[0m",
      "\u001b[1;31mNotFittedError\u001b[0m                            Traceback (most recent call last)",
      "\u001b[1;32m<ipython-input-5-a9ca30a0adee>\u001b[0m in \u001b[0;36m<module>\u001b[1;34m\u001b[0m\n\u001b[0;32m     25\u001b[0m \u001b[0mX_ros\u001b[0m\u001b[1;33m,\u001b[0m \u001b[0my_ros\u001b[0m \u001b[1;33m=\u001b[0m \u001b[0mros\u001b[0m\u001b[1;33m.\u001b[0m\u001b[0mfit_sample\u001b[0m\u001b[1;33m(\u001b[0m\u001b[0mX_train\u001b[0m\u001b[1;33m,\u001b[0m \u001b[0my_train\u001b[0m\u001b[1;33m)\u001b[0m\u001b[1;33m\u001b[0m\u001b[1;33m\u001b[0m\u001b[0m\n\u001b[0;32m     26\u001b[0m \u001b[1;33m\u001b[0m\u001b[0m\n\u001b[1;32m---> 27\u001b[1;33m \u001b[0mpred\u001b[0m \u001b[1;33m=\u001b[0m \u001b[0mknn\u001b[0m\u001b[1;33m.\u001b[0m\u001b[0mpredict\u001b[0m\u001b[1;33m(\u001b[0m\u001b[0mX_test\u001b[0m\u001b[1;33m)\u001b[0m\u001b[1;33m\u001b[0m\u001b[1;33m\u001b[0m\u001b[0m\n\u001b[0m\u001b[0;32m     28\u001b[0m \u001b[1;33m\u001b[0m\u001b[0m\n\u001b[0;32m     29\u001b[0m \u001b[0my_pred_prob\u001b[0m \u001b[1;33m=\u001b[0m \u001b[0mknn\u001b[0m\u001b[1;33m.\u001b[0m\u001b[0mpredict_proba\u001b[0m\u001b[1;33m(\u001b[0m\u001b[0mX_test\u001b[0m\u001b[1;33m)\u001b[0m\u001b[1;33m\u001b[0m\u001b[1;33m\u001b[0m\u001b[0m\n",
      "\u001b[1;32m~\\anaconda3\\lib\\site-packages\\sklearn\\neighbors\\_classification.py\u001b[0m in \u001b[0;36mpredict\u001b[1;34m(self, X)\u001b[0m\n\u001b[0;32m    173\u001b[0m         \u001b[0mX\u001b[0m \u001b[1;33m=\u001b[0m \u001b[0mcheck_array\u001b[0m\u001b[1;33m(\u001b[0m\u001b[0mX\u001b[0m\u001b[1;33m,\u001b[0m \u001b[0maccept_sparse\u001b[0m\u001b[1;33m=\u001b[0m\u001b[1;34m'csr'\u001b[0m\u001b[1;33m)\u001b[0m\u001b[1;33m\u001b[0m\u001b[1;33m\u001b[0m\u001b[0m\n\u001b[0;32m    174\u001b[0m \u001b[1;33m\u001b[0m\u001b[0m\n\u001b[1;32m--> 175\u001b[1;33m         \u001b[0mneigh_dist\u001b[0m\u001b[1;33m,\u001b[0m \u001b[0mneigh_ind\u001b[0m \u001b[1;33m=\u001b[0m \u001b[0mself\u001b[0m\u001b[1;33m.\u001b[0m\u001b[0mkneighbors\u001b[0m\u001b[1;33m(\u001b[0m\u001b[0mX\u001b[0m\u001b[1;33m)\u001b[0m\u001b[1;33m\u001b[0m\u001b[1;33m\u001b[0m\u001b[0m\n\u001b[0m\u001b[0;32m    176\u001b[0m         \u001b[0mclasses_\u001b[0m \u001b[1;33m=\u001b[0m \u001b[0mself\u001b[0m\u001b[1;33m.\u001b[0m\u001b[0mclasses_\u001b[0m\u001b[1;33m\u001b[0m\u001b[1;33m\u001b[0m\u001b[0m\n\u001b[0;32m    177\u001b[0m         \u001b[0m_y\u001b[0m \u001b[1;33m=\u001b[0m \u001b[0mself\u001b[0m\u001b[1;33m.\u001b[0m\u001b[0m_y\u001b[0m\u001b[1;33m\u001b[0m\u001b[1;33m\u001b[0m\u001b[0m\n",
      "\u001b[1;32m~\\anaconda3\\lib\\site-packages\\sklearn\\neighbors\\_base.py\u001b[0m in \u001b[0;36mkneighbors\u001b[1;34m(self, X, n_neighbors, return_distance)\u001b[0m\n\u001b[0;32m    583\u001b[0m \u001b[1;33m\u001b[0m\u001b[0m\n\u001b[0;32m    584\u001b[0m         \"\"\"\n\u001b[1;32m--> 585\u001b[1;33m         \u001b[0mcheck_is_fitted\u001b[0m\u001b[1;33m(\u001b[0m\u001b[0mself\u001b[0m\u001b[1;33m)\u001b[0m\u001b[1;33m\u001b[0m\u001b[1;33m\u001b[0m\u001b[0m\n\u001b[0m\u001b[0;32m    586\u001b[0m \u001b[1;33m\u001b[0m\u001b[0m\n\u001b[0;32m    587\u001b[0m         \u001b[1;32mif\u001b[0m \u001b[0mn_neighbors\u001b[0m \u001b[1;32mis\u001b[0m \u001b[1;32mNone\u001b[0m\u001b[1;33m:\u001b[0m\u001b[1;33m\u001b[0m\u001b[1;33m\u001b[0m\u001b[0m\n",
      "\u001b[1;32m~\\anaconda3\\lib\\site-packages\\sklearn\\utils\\validation.py\u001b[0m in \u001b[0;36minner_f\u001b[1;34m(*args, **kwargs)\u001b[0m\n\u001b[0;32m     70\u001b[0m                           FutureWarning)\n\u001b[0;32m     71\u001b[0m         \u001b[0mkwargs\u001b[0m\u001b[1;33m.\u001b[0m\u001b[0mupdate\u001b[0m\u001b[1;33m(\u001b[0m\u001b[1;33m{\u001b[0m\u001b[0mk\u001b[0m\u001b[1;33m:\u001b[0m \u001b[0marg\u001b[0m \u001b[1;32mfor\u001b[0m \u001b[0mk\u001b[0m\u001b[1;33m,\u001b[0m \u001b[0marg\u001b[0m \u001b[1;32min\u001b[0m \u001b[0mzip\u001b[0m\u001b[1;33m(\u001b[0m\u001b[0msig\u001b[0m\u001b[1;33m.\u001b[0m\u001b[0mparameters\u001b[0m\u001b[1;33m,\u001b[0m \u001b[0margs\u001b[0m\u001b[1;33m)\u001b[0m\u001b[1;33m}\u001b[0m\u001b[1;33m)\u001b[0m\u001b[1;33m\u001b[0m\u001b[1;33m\u001b[0m\u001b[0m\n\u001b[1;32m---> 72\u001b[1;33m         \u001b[1;32mreturn\u001b[0m \u001b[0mf\u001b[0m\u001b[1;33m(\u001b[0m\u001b[1;33m**\u001b[0m\u001b[0mkwargs\u001b[0m\u001b[1;33m)\u001b[0m\u001b[1;33m\u001b[0m\u001b[1;33m\u001b[0m\u001b[0m\n\u001b[0m\u001b[0;32m     73\u001b[0m     \u001b[1;32mreturn\u001b[0m \u001b[0minner_f\u001b[0m\u001b[1;33m\u001b[0m\u001b[1;33m\u001b[0m\u001b[0m\n\u001b[0;32m     74\u001b[0m \u001b[1;33m\u001b[0m\u001b[0m\n",
      "\u001b[1;32m~\\anaconda3\\lib\\site-packages\\sklearn\\utils\\validation.py\u001b[0m in \u001b[0;36mcheck_is_fitted\u001b[1;34m(estimator, attributes, msg, all_or_any)\u001b[0m\n\u001b[0;32m   1017\u001b[0m \u001b[1;33m\u001b[0m\u001b[0m\n\u001b[0;32m   1018\u001b[0m     \u001b[1;32mif\u001b[0m \u001b[1;32mnot\u001b[0m \u001b[0mattrs\u001b[0m\u001b[1;33m:\u001b[0m\u001b[1;33m\u001b[0m\u001b[1;33m\u001b[0m\u001b[0m\n\u001b[1;32m-> 1019\u001b[1;33m         \u001b[1;32mraise\u001b[0m \u001b[0mNotFittedError\u001b[0m\u001b[1;33m(\u001b[0m\u001b[0mmsg\u001b[0m \u001b[1;33m%\u001b[0m \u001b[1;33m{\u001b[0m\u001b[1;34m'name'\u001b[0m\u001b[1;33m:\u001b[0m \u001b[0mtype\u001b[0m\u001b[1;33m(\u001b[0m\u001b[0mestimator\u001b[0m\u001b[1;33m)\u001b[0m\u001b[1;33m.\u001b[0m\u001b[0m__name__\u001b[0m\u001b[1;33m}\u001b[0m\u001b[1;33m)\u001b[0m\u001b[1;33m\u001b[0m\u001b[1;33m\u001b[0m\u001b[0m\n\u001b[0m\u001b[0;32m   1020\u001b[0m \u001b[1;33m\u001b[0m\u001b[0m\n\u001b[0;32m   1021\u001b[0m \u001b[1;33m\u001b[0m\u001b[0m\n",
      "\u001b[1;31mNotFittedError\u001b[0m: This KNeighborsClassifier instance is not fitted yet. Call 'fit' with appropriate arguments before using this estimator."
     ]
    }
   ],
   "source": [
    "# -*- coding: utf-8 -*-\n",
    "\"\"\"\n",
    "Created on Wed Mar 13 09:25:14 2019\n",
    "Nate Jermain\n",
    "Random forest analysis for stock delineation for Chub Mackerel\n",
    "\"\"\"\n",
    "\n",
    "import pandas as pd\n",
    "import numpy as np\n",
    "\n",
    "df=pd.read_csv(\"C:/Users/w10007346/Dropbox/ATC shape analsis project (1)/ACM_ShapeAnalysis/Analysis/wave_shape.csv\")\n",
    "\n",
    "df.head()\n",
    "orig_resp=df['pop']\n",
    "\n",
    "####### Data Cleaning ###########\n",
    "# we will remove any columns with more than 50% missing values.\n",
    "\n",
    "df.columns.values\n",
    "len(df.columns.values)\n",
    "\n",
    "#### Transforming skewed features\n",
    "# check features for skew\n",
    "skew_feats=df.drop('pop', axis=1).skew().sort_values(ascending=False)\n",
    "skewness=pd.DataFrame({'Skew':skew_feats})\n",
    "skewness=skewness[abs(skewness)>0.75].dropna()\n",
    "\n",
    "# use box cox transformation\n",
    "from scipy.special import boxcox1p\n",
    "skewed_features=skewness.index\n",
    "lam=0.15\n",
    "\n",
    "for i in skewed_features:\n",
    "    df[i]=boxcox1p(df[i],lam)\n",
    "\n",
    "# check\n",
    "df.skew().sort_values(ascending=False)# improved\n",
    "\n",
    "##### Remove duplicate features and NAs\n",
    "# remove id column\n",
    "df=df.drop('Unnamed: 0', axis=1)\n",
    "# response is population\n",
    "resp=df['pop']\n",
    "df=df.drop('pop', axis=1)\n",
    "\n",
    "df.columns.values\n",
    "\n",
    "\n",
    "# fill in missing values\n",
    "df.isnull().sum().sort_values(ascending=False)\n",
    "\n",
    "# remove features with all nas\n",
    "df=df.drop(['Ws1c1','Ws1c2', 'Ws2c4'], axis=1)\n",
    "\n",
    "df.isnull().sum().sort_values(ascending=False)\n",
    "\n",
    "# features with small numbers of nas get filled with means\n",
    "df.Ws2c3.describe()\n",
    "df.Ws2c3=df.Ws2c3.fillna(df.Ws2c3.dropna().mean())\n",
    "\n",
    "df.Ws2c1.describe()\n",
    "df.Ws2c1=df.Ws2c1.fillna(df.Ws2c1.dropna().mean())\n",
    "\n",
    "df.isnull().sum().sort_values(ascending=False)\n",
    "df.Ws3c1.describe()\n",
    "df.Ws3c1=df.Ws3c1.fillna(df.Ws3c1.dropna().mean())\n",
    "df.Ws4c10=df.Ws4c10.fillna(df.Ws4c10.dropna().mean())\n",
    "df.Ws3c4=df.Ws3c4.fillna(df.Ws3c4.dropna().mean())\n",
    "df.isnull().values.any()\n",
    "\n",
    "# create response variable as factor\n",
    "resp=pd.factorize(resp)\n",
    "resp=resp[0]\n",
    "\n",
    "# Split into training and test sets\n",
    "from sklearn.model_selection import train_test_split\n",
    "train_X, test_X, train_y, test_y = train_test_split(df, orig_resp, random_state = 0, test_size=.3)\n",
    "\n",
    "\n",
    "# make sure test set is balanced\n",
    "from imblearn.under_sampling import RandomUnderSampler\n",
    "\n",
    "untest = RandomUnderSampler(return_indices=True)\n",
    "X_untest, y_untest, id_untest = untest.fit_sample(test_X, test_y)\n",
    "\n",
    "pd.Series(y_untest).value_counts().plot('bar') # equal sampling now (check)\n",
    "\n",
    "# prior to resampling\n",
    "from sklearn.ensemble import RandomForestClassifier\n",
    "\n",
    "# the model prior to hyperparameter optimization\n",
    "Best_RFC=RandomForestClassifier(n_estimators=4000, max_features='auto', max_depth=20,\n",
    "                           min_samples_split=5, min_samples_leaf=1,\n",
    "                           bootstrap=True, criterion='gini')\n",
    "\n",
    "Best_RFC.fit(train_X, train_y)\n",
    "\n",
    "# predict test Y values\n",
    "ypred=Best_RFC.predict(X_untest)\n",
    "\n",
    "# apply to test set\n",
    "from sklearn import metrics\n",
    "print(\"Accuracy:\",metrics.accuracy_score(y_untest, ypred))\n",
    "\n",
    "# confusion matrix to evaluate predictions\n",
    "pd.crosstab(y_untest, ypred, rownames=['Observed'], colnames=['Predicted'])\n",
    "\n",
    "\n",
    "########### Undersampling of common classes \n",
    "import matplotlib.pyplot as plt\n",
    "fig = plt.figure()\n",
    "plot= pd.Series(train_y).value_counts().plot('bar', color=['green', 'blue', 'red']) # unbalanced design\n",
    "fig = plot.get_figure()\n",
    "fig.savefig('Imbalanced.png', dpi=300) \n",
    "\n",
    "\n",
    "from imblearn.under_sampling import RandomUnderSampler\n",
    "rus = RandomUnderSampler(return_indices=True)\n",
    "X_rus, y_rus, id_rus = rus.fit_sample(train_X, train_y)\n",
    "\n",
    "pd.Series(y_rus).value_counts().plot('bar') # equal sampling now (check)\n",
    "\n",
    "fig = plt.figure()\n",
    "plot = pd.Series(y_rus).value_counts().plot('bar', color=['green', 'blue', 'red'])  \n",
    "fig = plot.get_figure()\n",
    "fig.savefig('oversamp.png', dpi=300) \n",
    "\n",
    "### MODEL\n",
    "\n",
    "Best_RFC.fit(X_rus, y_rus)\n",
    "\n",
    "# predict test Y values\n",
    "ypred=Best_RFC.predict(X_untest)\n",
    "\n",
    "# apply to test set\n",
    "from sklearn import metrics\n",
    "print(\"Accuracy:\",metrics.accuracy_score(y_untest, ypred))\n",
    "\n",
    "# confusion matrix to evaluate predictions\n",
    "pd.crosstab(y_untest, ypred, rownames=['Observed'], colnames=['Predicted'])\n",
    "\n",
    "\n",
    "\n",
    "\n",
    "######## Oversampling of rare classes  ######################\n",
    "# lets try oversampling too\n",
    "from imblearn.over_sampling import RandomOverSampler\n",
    "ros = RandomOverSampler()\n",
    "X_ros, y_ros = ros.fit_sample(train_X, train_y)\n",
    "\n",
    "# equal sampling now (check)\n",
    "fig = plt.figure()\n",
    "plot = pd.Series(y_ros).value_counts().plot('bar', color=['green', 'blue', 'red'])  \n",
    "fig = plot.get_figure()\n",
    "fig.savefig('oversamp.png', dpi=300) \n",
    "\n",
    "# fit best model to training dataset\n",
    "Best_RFC.fit(X_ros, y_ros)\n",
    "\n",
    "# predict test Y values\n",
    "ypred=Best_RFC.predict(X_untest)\n",
    "\n",
    "# apply to test set\n",
    "from sklearn import metrics\n",
    "print(\"Accuracy:\",metrics.accuracy_score(y_untest, ypred))\n",
    "\n",
    "# confusion matrix to evaluate predictions\n",
    "pd.crosstab(y_untest, ypred, rownames=['Observed'], colnames=['Predicted'])\n",
    "\n",
    "\n",
    "########## Using SMOTE ##############\n",
    "from imblearn.over_sampling import SMOTE\n",
    "smot = SMOTE()\n",
    "X_smot, y_smot = smot.fit_sample(train_X, train_y)\n",
    "\n",
    "\n",
    "pd.Series(y_smot).value_counts().plot('bar') # equal sampling now (check)\n",
    "\n",
    "\n",
    "# fit best model to training dataset\n",
    "Best_RFC.fit(X_smot, y_smot)\n",
    "\n",
    "# predict test Y values\n",
    "ypred=Best_RFC.predict(X_untest)\n",
    "\n",
    "# apply to test set\n",
    "from sklearn import metrics\n",
    "print(\"Accuracy:\",metrics.accuracy_score(y_untest, ypred))\n",
    "\n",
    "# confusion matrix to evaluate predictions\n",
    "pd.crosstab(y_untest, ypred, rownames=['Observed'], colnames=['Predicted'])\n",
    "\n",
    "\n",
    "\n"
   ]
  },
  {
   "cell_type": "code",
   "execution_count": 371,
   "metadata": {},
   "outputs": [
    {
     "name": "stdout",
     "output_type": "stream",
     "text": [
      "<class 'pandas.core.frame.DataFrame'>\n",
      "RangeIndex: 162 entries, 0 to 161\n",
      "Data columns (total 8 columns):\n",
      " #   Column      Non-Null Count  Dtype  \n",
      "---  ------      --------------  -----  \n",
      " 0   Unnamed: 0  162 non-null    object \n",
      " 1   age         160 non-null    float64\n",
      " 2   gender      160 non-null    object \n",
      " 3   state       156 non-null    object \n",
      " 4   Unnamed: 4  0 non-null      float64\n",
      " 5   price       158 non-null    float64\n",
      " 6   salary      160 non-null    float64\n",
      " 7   come        160 non-null    object \n",
      "dtypes: float64(4), object(4)\n",
      "memory usage: 10.2+ KB\n"
     ]
    }
   ],
   "source": [
    "#reading from excel \n",
    "\n",
    "import pandas as pd\n",
    "import numpy as np\n",
    "\n",
    "\n",
    "from pandas import ExcelWriter\n",
    "from pandas import ExcelFile\n",
    "df=pd.read_excel('C:\\\\Users\\\\Mojtaba\\\\Projects\\\\Iris-classification\\\\family.xlsx', 4)\n",
    "# df1=pd.read_excel('C:\\\\Users\\\\Mojtaba\\\\Projects\\\\Iris-classification\\\\family.xlsx', 3)\n",
    "# df=pd.read_excel('C:\\\\Users\\\\Mojtaba\\\\Projects\\\\Iris-classification\\\\family.xlsx', sheet_name='ali')\n",
    "# df=df.transpose().reset_index().rename(columns={'index':'Variable'})\n",
    "# df = df.T\n",
    "\n",
    "# DF = pd.read_table(df,sep=\"\\t\",index_col = [0]).transpose() #Add index_col = [0] to not have index values as own row during transposition\n",
    "# m, n = DF.shape\n",
    "# DF.reset_index(drop=False, inplace=True)\n",
    "# DF.head()\n",
    "# df['id2'] = df.index\n",
    "df.set_index('name',inplace=True)\n",
    "df= df.T\n",
    "# df.reset_index(drop=True, inplace=True)\n",
    "\n",
    "# df=df.transpose()\n",
    "# df.index\n",
    "\n",
    "# df.columns = df.iloc[0]\n",
    "\n",
    "\n",
    "# dff=df.to_excel(header=None)\n",
    "with pd.ExcelWriter('output.xlsx') as writer:  \n",
    "    df.to_excel(writer, sheet_name='Sheet_name_1')\n",
    "\n",
    "df=pd.read_excel('C:\\\\Users\\\\Mojtaba\\\\Projects\\\\Iris-classification\\\\output.xlsx',0)\n",
    "df\n",
    "# df.describe()\n",
    "# df.describe\n",
    "# df = df.set_index('name').T\n",
    "# df = df.set_index('name').T.reset_index()\n",
    "# df = df.set_index('name').T.rename_axis('Variable').rename_axis(None, 1).reset_index()\n",
    "# df\n",
    "# print (df)\n",
    "# df.drop(index='Variable')\n",
    "# df=df.transpose()\n",
    "# df.drop(index=0)\n",
    "# df.describe()\n",
    "# df1.info()\n",
    "# df.mean()\n",
    "df.info()\n",
    "# \n",
    "# orig_resp=df['pop']"
   ]
  },
  {
   "cell_type": "code",
   "execution_count": 372,
   "metadata": {},
   "outputs": [
    {
     "data": {
      "text/plain": [
       "8"
      ]
     },
     "execution_count": 372,
     "metadata": {},
     "output_type": "execute_result"
    }
   ],
   "source": [
    "####### Data Cleaning ###########\n",
    "\n",
    "df.columns.values\n",
    "len(df.columns.values)\n"
   ]
  },
  {
   "cell_type": "code",
   "execution_count": 373,
   "metadata": {},
   "outputs": [
    {
     "name": "stdout",
     "output_type": "stream",
     "text": [
      "            Skew\n",
      "salary  2.879664\n",
      "age     0.881071\n"
     ]
    }
   ],
   "source": [
    "#### Transforming skewed features\n",
    "# check features for skew\n",
    "# skew_feats=df.drop('pop', axis=1).skew().sort_values(ascending=False)\n",
    "skew_feats=df.skew().sort_values(ascending=False)\n",
    "skewness=pd.DataFrame({'Skew':skew_feats})\n",
    "skewness=skewness[abs(skewness)>0.75].dropna()\n",
    "print(skewness)"
   ]
  },
  {
   "cell_type": "code",
   "execution_count": 374,
   "metadata": {},
   "outputs": [
    {
     "data": {
      "text/plain": [
       "salary        1.827404\n",
       "price         0.063942\n",
       "age          -0.060543\n",
       "Unnamed: 4         NaN\n",
       "dtype: float64"
      ]
     },
     "execution_count": 374,
     "metadata": {},
     "output_type": "execute_result"
    }
   ],
   "source": [
    "# use box cox transformation\n",
    "from scipy.special import boxcox1p\n",
    "skewed_features=skewness.index\n",
    "lam=0.15\n",
    "for i in skewed_features:\n",
    "    df[i]=boxcox1p(df[i],lam)\n",
    "\n",
    "# check\n",
    "df.skew().sort_values(ascending=False)# improved\n",
    "\n",
    "# from scipy import stats\n",
    "# fer_boxcox=stats.boxcox(df['fertility'])[0]\n",
    "# print(pd.Series(fer_boxcox).skew())\n",
    "# sns.distplot(fer_boxcox)\n",
    "# # for i in skewed_features:\n",
    "# # df[i],lmbda=boxcox(df[i], lmbda= None )"
   ]
  },
  {
   "cell_type": "code",
   "execution_count": 375,
   "metadata": {},
   "outputs": [
    {
     "data": {
      "text/plain": [
       "Unnamed: 0      0\n",
       "age             2\n",
       "gender          2\n",
       "state           6\n",
       "Unnamed: 4    162\n",
       "price           4\n",
       "salary          2\n",
       "come            2\n",
       "dtype: int64"
      ]
     },
     "execution_count": 375,
     "metadata": {},
     "output_type": "execute_result"
    }
   ],
   "source": [
    "# Here’s the python code to find the total number of missing values in each columns.\n",
    "df.isna().sum()"
   ]
  },
  {
   "cell_type": "code",
   "execution_count": 376,
   "metadata": {},
   "outputs": [
    {
     "data": {
      "text/plain": [
       "Unnamed: 0      0\n",
       "age             0\n",
       "gender          0\n",
       "state           4\n",
       "Unnamed: 4    160\n",
       "price           2\n",
       "salary          0\n",
       "come            0\n",
       "dtype: int64"
      ]
     },
     "execution_count": 376,
     "metadata": {},
     "output_type": "execute_result"
    }
   ],
   "source": [
    "# delete a row\n",
    "# we replace any empty strings in any column with np.nan objects, like so: we take one column \"age\" because then we want to \n",
    "# delete the whole row \n",
    "df['age'].replace('', np.nan, inplace=True)\n",
    "# Now we can drop the null values\n",
    "df.dropna(subset=['age'], inplace=True)\n",
    "#let's check\n",
    "df.isna().sum()"
   ]
  },
  {
   "cell_type": "code",
   "execution_count": 377,
   "metadata": {},
   "outputs": [
    {
     "name": "stdout",
     "output_type": "stream",
     "text": [
      "    Unnamed: 0       age  gender    state     price     salary come\n",
      "0         muri  4.071754  female  married    1340.0  31.862221  yes\n",
      "1         wudi  4.697012    male  married    2140.0  33.485383   no\n",
      "2         jami  3.932510  female      NaN    1100.0  33.856700  yes\n",
      "3       muri.1  5.527074  female  married    1270.0  31.362625  yes\n",
      "4         kami  4.201461    male   single       NaN  37.756878   no\n",
      "..         ...       ...     ...      ...       ...        ...  ...\n",
      "157      ger.3  6.123681  female  married  110000.0  33.485383  yes\n",
      "158      dik.3  5.494161    male  married    2153.0  33.856700  yes\n",
      "159      kil.3  4.597157  female   single    2145.0  31.362625   no\n",
      "160      kef.3  3.128239  female  married    9850.0  35.236027  yes\n",
      "161      fev.3  4.597157    male  married    1850.0  42.719213   no\n",
      "\n",
      "[160 rows x 7 columns]\n"
     ]
    }
   ],
   "source": [
    "##### Remove duplicate features and NAs\n",
    "# remove id column\n",
    "# df=df.drop('Unnamed: 0', axis=1)\n",
    "# response is population\n",
    "# df=df.drop([0,2])\n",
    "# resp=df['come']\n",
    "# df1=df.drop( df.columns[1], axis=1, inplace=True)\n",
    "df1=df.drop(columns='Unnamed: 4')\n",
    "# df=df.drop('come', axis=1)\n",
    "print(df1)\n",
    "# df\n",
    "# df.columns.values"
   ]
  },
  {
   "cell_type": "code",
   "execution_count": 378,
   "metadata": {},
   "outputs": [
    {
     "name": "stdout",
     "output_type": "stream",
     "text": [
      "    Unnamed: 0       age  gender  state     price     salary  come\n",
      "0         muri  4.071754       1    1.0    1340.0  31.862221     1\n",
      "1         wudi  4.697012       0    1.0    2140.0  33.485383     0\n",
      "2         jami  3.932510       1    NaN    1100.0  33.856700     1\n",
      "3       muri.1  5.527074       1    1.0    1270.0  31.362625     1\n",
      "4         kami  4.201461       0    0.0       NaN  37.756878     0\n",
      "..         ...       ...     ...    ...       ...        ...   ...\n",
      "157      ger.3  6.123681       1    1.0  110000.0  33.485383     1\n",
      "158      dik.3  5.494161       0    1.0    2153.0  33.856700     1\n",
      "159      kil.3  4.597157       1    0.0    2145.0  31.362625     0\n",
      "160      kef.3  3.128239       1    1.0    9850.0  35.236027     1\n",
      "161      fev.3  4.597157       0    1.0    1850.0  42.719213     0\n",
      "\n",
      "[160 rows x 7 columns]\n"
     ]
    }
   ],
   "source": [
    "# Here’s a little Python code that replaces all the objects entries with a number.\n",
    "df1['gender']=df1['gender'].map({'male':0,'female':1})\n",
    "df1['state']=df1['state'].map({'single':0,'married':1})\n",
    "df1['come']=df1['come'].map({'no':0,'yes':1})\n",
    "print(df1)"
   ]
  },
  {
   "cell_type": "code",
   "execution_count": 379,
   "metadata": {},
   "outputs": [
    {
     "data": {
      "text/html": [
       "<div>\n",
       "<style scoped>\n",
       "    .dataframe tbody tr th:only-of-type {\n",
       "        vertical-align: middle;\n",
       "    }\n",
       "\n",
       "    .dataframe tbody tr th {\n",
       "        vertical-align: top;\n",
       "    }\n",
       "\n",
       "    .dataframe thead th {\n",
       "        text-align: right;\n",
       "    }\n",
       "</style>\n",
       "<table border=\"1\" class=\"dataframe\">\n",
       "  <thead>\n",
       "    <tr style=\"text-align: right;\">\n",
       "      <th></th>\n",
       "      <th>Unnamed: 0</th>\n",
       "      <th>age</th>\n",
       "      <th>gender</th>\n",
       "      <th>state</th>\n",
       "      <th>price</th>\n",
       "      <th>salary</th>\n",
       "      <th>come</th>\n",
       "    </tr>\n",
       "  </thead>\n",
       "  <tbody>\n",
       "    <tr>\n",
       "      <th>0</th>\n",
       "      <td>muri</td>\n",
       "      <td>4.071754</td>\n",
       "      <td>1</td>\n",
       "      <td>1.0</td>\n",
       "      <td>1340.0</td>\n",
       "      <td>31.862221</td>\n",
       "      <td>1</td>\n",
       "    </tr>\n",
       "    <tr>\n",
       "      <th>1</th>\n",
       "      <td>wudi</td>\n",
       "      <td>4.697012</td>\n",
       "      <td>0</td>\n",
       "      <td>1.0</td>\n",
       "      <td>2140.0</td>\n",
       "      <td>33.485383</td>\n",
       "      <td>0</td>\n",
       "    </tr>\n",
       "    <tr>\n",
       "      <th>2</th>\n",
       "      <td>jami</td>\n",
       "      <td>3.932510</td>\n",
       "      <td>1</td>\n",
       "      <td>NaN</td>\n",
       "      <td>1100.0</td>\n",
       "      <td>33.856700</td>\n",
       "      <td>1</td>\n",
       "    </tr>\n",
       "    <tr>\n",
       "      <th>3</th>\n",
       "      <td>muri.1</td>\n",
       "      <td>5.527074</td>\n",
       "      <td>1</td>\n",
       "      <td>1.0</td>\n",
       "      <td>1270.0</td>\n",
       "      <td>31.362625</td>\n",
       "      <td>1</td>\n",
       "    </tr>\n",
       "    <tr>\n",
       "      <th>4</th>\n",
       "      <td>kami</td>\n",
       "      <td>4.201461</td>\n",
       "      <td>0</td>\n",
       "      <td>0.0</td>\n",
       "      <td>NaN</td>\n",
       "      <td>37.756878</td>\n",
       "      <td>0</td>\n",
       "    </tr>\n",
       "    <tr>\n",
       "      <th>...</th>\n",
       "      <td>...</td>\n",
       "      <td>...</td>\n",
       "      <td>...</td>\n",
       "      <td>...</td>\n",
       "      <td>...</td>\n",
       "      <td>...</td>\n",
       "      <td>...</td>\n",
       "    </tr>\n",
       "    <tr>\n",
       "      <th>157</th>\n",
       "      <td>ger.3</td>\n",
       "      <td>6.123681</td>\n",
       "      <td>1</td>\n",
       "      <td>1.0</td>\n",
       "      <td>110000.0</td>\n",
       "      <td>33.485383</td>\n",
       "      <td>1</td>\n",
       "    </tr>\n",
       "    <tr>\n",
       "      <th>158</th>\n",
       "      <td>dik.3</td>\n",
       "      <td>5.494161</td>\n",
       "      <td>0</td>\n",
       "      <td>1.0</td>\n",
       "      <td>2153.0</td>\n",
       "      <td>33.856700</td>\n",
       "      <td>1</td>\n",
       "    </tr>\n",
       "    <tr>\n",
       "      <th>159</th>\n",
       "      <td>kil.3</td>\n",
       "      <td>4.597157</td>\n",
       "      <td>1</td>\n",
       "      <td>0.0</td>\n",
       "      <td>2145.0</td>\n",
       "      <td>31.362625</td>\n",
       "      <td>0</td>\n",
       "    </tr>\n",
       "    <tr>\n",
       "      <th>160</th>\n",
       "      <td>kef.3</td>\n",
       "      <td>3.128239</td>\n",
       "      <td>1</td>\n",
       "      <td>1.0</td>\n",
       "      <td>9850.0</td>\n",
       "      <td>35.236027</td>\n",
       "      <td>1</td>\n",
       "    </tr>\n",
       "    <tr>\n",
       "      <th>161</th>\n",
       "      <td>fev.3</td>\n",
       "      <td>4.597157</td>\n",
       "      <td>0</td>\n",
       "      <td>1.0</td>\n",
       "      <td>1850.0</td>\n",
       "      <td>42.719213</td>\n",
       "      <td>0</td>\n",
       "    </tr>\n",
       "  </tbody>\n",
       "</table>\n",
       "<p>160 rows × 7 columns</p>\n",
       "</div>"
      ],
      "text/plain": [
       "    Unnamed: 0       age  gender  state     price     salary  come\n",
       "0         muri  4.071754       1    1.0    1340.0  31.862221     1\n",
       "1         wudi  4.697012       0    1.0    2140.0  33.485383     0\n",
       "2         jami  3.932510       1    NaN    1100.0  33.856700     1\n",
       "3       muri.1  5.527074       1    1.0    1270.0  31.362625     1\n",
       "4         kami  4.201461       0    0.0       NaN  37.756878     0\n",
       "..         ...       ...     ...    ...       ...        ...   ...\n",
       "157      ger.3  6.123681       1    1.0  110000.0  33.485383     1\n",
       "158      dik.3  5.494161       0    1.0    2153.0  33.856700     1\n",
       "159      kil.3  4.597157       1    0.0    2145.0  31.362625     0\n",
       "160      kef.3  3.128239       1    1.0    9850.0  35.236027     1\n",
       "161      fev.3  4.597157       0    1.0    1850.0  42.719213     0\n",
       "\n",
       "[160 rows x 7 columns]"
      ]
     },
     "execution_count": 379,
     "metadata": {},
     "output_type": "execute_result"
    }
   ],
   "source": [
    "# fill in missing values\n",
    "df=df1\n",
    "# df.isnull().sum().sort_values(ascending=False)\n",
    "\n",
    "# remove features with all nas\n",
    "# df=df.drop(['Ws1c1','Ws1c2', 'Ws2c4'], axis=1)\n",
    "\n",
    "df.isnull().sum().sort_values(ascending=False)\n",
    "df"
   ]
  },
  {
   "cell_type": "code",
   "execution_count": 380,
   "metadata": {},
   "outputs": [
    {
     "data": {
      "text/html": [
       "<div>\n",
       "<style scoped>\n",
       "    .dataframe tbody tr th:only-of-type {\n",
       "        vertical-align: middle;\n",
       "    }\n",
       "\n",
       "    .dataframe tbody tr th {\n",
       "        vertical-align: top;\n",
       "    }\n",
       "\n",
       "    .dataframe thead th {\n",
       "        text-align: right;\n",
       "    }\n",
       "</style>\n",
       "<table border=\"1\" class=\"dataframe\">\n",
       "  <thead>\n",
       "    <tr style=\"text-align: right;\">\n",
       "      <th></th>\n",
       "      <th>Unnamed: 0</th>\n",
       "      <th>age</th>\n",
       "      <th>gender</th>\n",
       "      <th>state</th>\n",
       "      <th>price</th>\n",
       "      <th>salary</th>\n",
       "      <th>come</th>\n",
       "    </tr>\n",
       "  </thead>\n",
       "  <tbody>\n",
       "    <tr>\n",
       "      <th>0</th>\n",
       "      <td>muri</td>\n",
       "      <td>4.071754</td>\n",
       "      <td>1</td>\n",
       "      <td>1.0</td>\n",
       "      <td>1340.000000</td>\n",
       "      <td>31.862221</td>\n",
       "      <td>1</td>\n",
       "    </tr>\n",
       "    <tr>\n",
       "      <th>1</th>\n",
       "      <td>wudi</td>\n",
       "      <td>4.697012</td>\n",
       "      <td>0</td>\n",
       "      <td>1.0</td>\n",
       "      <td>2140.000000</td>\n",
       "      <td>33.485383</td>\n",
       "      <td>0</td>\n",
       "    </tr>\n",
       "    <tr>\n",
       "      <th>2</th>\n",
       "      <td>jami</td>\n",
       "      <td>3.932510</td>\n",
       "      <td>1</td>\n",
       "      <td>1.0</td>\n",
       "      <td>1100.000000</td>\n",
       "      <td>33.856700</td>\n",
       "      <td>1</td>\n",
       "    </tr>\n",
       "    <tr>\n",
       "      <th>3</th>\n",
       "      <td>muri.1</td>\n",
       "      <td>5.527074</td>\n",
       "      <td>1</td>\n",
       "      <td>1.0</td>\n",
       "      <td>1270.000000</td>\n",
       "      <td>31.362625</td>\n",
       "      <td>1</td>\n",
       "    </tr>\n",
       "    <tr>\n",
       "      <th>4</th>\n",
       "      <td>kami</td>\n",
       "      <td>4.201461</td>\n",
       "      <td>0</td>\n",
       "      <td>0.0</td>\n",
       "      <td>78422.075949</td>\n",
       "      <td>37.756878</td>\n",
       "      <td>0</td>\n",
       "    </tr>\n",
       "    <tr>\n",
       "      <th>...</th>\n",
       "      <td>...</td>\n",
       "      <td>...</td>\n",
       "      <td>...</td>\n",
       "      <td>...</td>\n",
       "      <td>...</td>\n",
       "      <td>...</td>\n",
       "      <td>...</td>\n",
       "    </tr>\n",
       "    <tr>\n",
       "      <th>157</th>\n",
       "      <td>ger.3</td>\n",
       "      <td>6.123681</td>\n",
       "      <td>1</td>\n",
       "      <td>1.0</td>\n",
       "      <td>110000.000000</td>\n",
       "      <td>33.485383</td>\n",
       "      <td>1</td>\n",
       "    </tr>\n",
       "    <tr>\n",
       "      <th>158</th>\n",
       "      <td>dik.3</td>\n",
       "      <td>5.494161</td>\n",
       "      <td>0</td>\n",
       "      <td>1.0</td>\n",
       "      <td>2153.000000</td>\n",
       "      <td>33.856700</td>\n",
       "      <td>1</td>\n",
       "    </tr>\n",
       "    <tr>\n",
       "      <th>159</th>\n",
       "      <td>kil.3</td>\n",
       "      <td>4.597157</td>\n",
       "      <td>1</td>\n",
       "      <td>0.0</td>\n",
       "      <td>2145.000000</td>\n",
       "      <td>31.362625</td>\n",
       "      <td>0</td>\n",
       "    </tr>\n",
       "    <tr>\n",
       "      <th>160</th>\n",
       "      <td>kef.3</td>\n",
       "      <td>3.128239</td>\n",
       "      <td>1</td>\n",
       "      <td>1.0</td>\n",
       "      <td>9850.000000</td>\n",
       "      <td>35.236027</td>\n",
       "      <td>1</td>\n",
       "    </tr>\n",
       "    <tr>\n",
       "      <th>161</th>\n",
       "      <td>fev.3</td>\n",
       "      <td>4.597157</td>\n",
       "      <td>0</td>\n",
       "      <td>1.0</td>\n",
       "      <td>1850.000000</td>\n",
       "      <td>42.719213</td>\n",
       "      <td>0</td>\n",
       "    </tr>\n",
       "  </tbody>\n",
       "</table>\n",
       "<p>160 rows × 7 columns</p>\n",
       "</div>"
      ],
      "text/plain": [
       "    Unnamed: 0       age  gender  state          price     salary  come\n",
       "0         muri  4.071754       1    1.0    1340.000000  31.862221     1\n",
       "1         wudi  4.697012       0    1.0    2140.000000  33.485383     0\n",
       "2         jami  3.932510       1    1.0    1100.000000  33.856700     1\n",
       "3       muri.1  5.527074       1    1.0    1270.000000  31.362625     1\n",
       "4         kami  4.201461       0    0.0   78422.075949  37.756878     0\n",
       "..         ...       ...     ...    ...            ...        ...   ...\n",
       "157      ger.3  6.123681       1    1.0  110000.000000  33.485383     1\n",
       "158      dik.3  5.494161       0    1.0    2153.000000  33.856700     1\n",
       "159      kil.3  4.597157       1    0.0    2145.000000  31.362625     0\n",
       "160      kef.3  3.128239       1    1.0    9850.000000  35.236027     1\n",
       "161      fev.3  4.597157       0    1.0    1850.000000  42.719213     0\n",
       "\n",
       "[160 rows x 7 columns]"
      ]
     },
     "execution_count": 380,
     "metadata": {},
     "output_type": "execute_result"
    }
   ],
   "source": [
    "# features with small numbers of nas get filled with means\n",
    "df.price.describe()\n",
    "df.price=df.price.fillna(df.price.dropna().mean())\n",
    "df.state.describe()\n",
    "# max for binary values\n",
    "df.state=df.state.fillna(df.state.dropna().max())\n",
    "df.isnull().values.any()\n",
    "df"
   ]
  },
  {
   "cell_type": "code",
   "execution_count": 381,
   "metadata": {},
   "outputs": [
    {
     "name": "stdout",
     "output_type": "stream",
     "text": [
      "<class 'pandas.core.frame.DataFrame'>\n",
      "Int64Index: 160 entries, 0 to 161\n",
      "Data columns (total 7 columns):\n",
      " #   Column      Non-Null Count  Dtype  \n",
      "---  ------      --------------  -----  \n",
      " 0   Unnamed: 0  160 non-null    object \n",
      " 1   age         160 non-null    float64\n",
      " 2   gender      160 non-null    int64  \n",
      " 3   state       160 non-null    float64\n",
      " 4   price       160 non-null    float64\n",
      " 5   salary      160 non-null    float64\n",
      " 6   come        160 non-null    int64  \n",
      "dtypes: float64(4), int64(2), object(1)\n",
      "memory usage: 10.0+ KB\n"
     ]
    }
   ],
   "source": [
    "df.info()"
   ]
  },
  {
   "cell_type": "code",
   "execution_count": 407,
   "metadata": {},
   "outputs": [
    {
     "name": "stdout",
     "output_type": "stream",
     "text": [
      "          age  gender  state          price     salary\n",
      "0    4.071754       1    1.0    1340.000000  31.862221\n",
      "1    4.697012       0    1.0    2140.000000  33.485383\n",
      "2    3.932510       1    1.0    1100.000000  33.856700\n",
      "3    5.527074       1    1.0    1270.000000  31.362625\n",
      "4    4.201461       0    0.0   78422.075949  37.756878\n",
      "..        ...     ...    ...            ...        ...\n",
      "157  6.123681       1    1.0  110000.000000  33.485383\n",
      "158  5.494161       0    1.0    2153.000000  33.856700\n",
      "159  4.597157       1    0.0    2145.000000  31.362625\n",
      "160  3.128239       1    1.0    9850.000000  35.236027\n",
      "161  4.597157       0    1.0    1850.000000  42.719213\n",
      "\n",
      "[160 rows x 5 columns]\n",
      "[1 0 1 1 0 0 0 1 1 0 1 0 1 1 0 1 0 1 1 0 1 0 1 1 0 0 0 1 1 0 1 0 1 1 0 1 0\n",
      " 1 1 0 0 1 0 1 0 1 0 1 0 1 1 0 1 1 0 1 0 1 0 1 1 0 1 0 1 1 0 1 1 0 1 0 1 1\n",
      " 0 1 1 0 1 0 1 0 1 1 0 0 0 1 1 0 1 0 1 1 0 1 0 1 1 0 1 0 1 1 0 0 0 1 1 0 1\n",
      " 0 1 1 0 1 0 1 1 0 0 1 0 1 0 1 0 1 0 1 1 0 1 1 0 1 0 1 0 1 1 0 1 0 1 1 0 1\n",
      " 1 0 1 0 1 1 0 1 1 0 1 0]\n"
     ]
    }
   ],
   "source": [
    "# create response variable as factor\n",
    "resp=df['come'].values\n",
    "# resp=resp[0]\n",
    "# resp\n",
    "df2= df.iloc[:, 1:-1]\n",
    "df2\n",
    "print(df2)\n",
    "print(resp)\n",
    "# features=df.loc[:,df.columns!='come'].values\n",
    "# print(features)\n",
    "# how do I specify my response variable?"
   ]
  },
  {
   "cell_type": "code",
   "execution_count": 384,
   "metadata": {},
   "outputs": [],
   "source": [
    "# Split into training and test sets\n",
    "from sklearn.model_selection import train_test_split\n",
    "train_X, test_X, train_y, test_y = train_test_split(df2, resp, random_state = 0, test_size=.3) #stratify=resp\n",
    "# x_train,x_test,y_train,y_test=train_test_split(x, y, test_size=0.2, random_state=7)"
   ]
  },
  {
   "cell_type": "code",
   "execution_count": 409,
   "metadata": {},
   "outputs": [
    {
     "name": "stdout",
     "output_type": "stream",
     "text": [
      "0\n"
     ]
    },
    {
     "data": {
      "text/plain": [
       "<matplotlib.axes._subplots.AxesSubplot at 0x7375467c8>"
      ]
     },
     "execution_count": 409,
     "metadata": {},
     "output_type": "execute_result"
    },
    {
     "data": {
      "image/png": "[encoded data removed]",
      "text/plain": [
       "<Figure size 432x288 with 1 Axes>"
      ]
     },
     "metadata": {
      "needs_background": "light"
     },
     "output_type": "display_data"
    }
   ],
   "source": [
    "from scipy import stats\n",
    "import seaborn as sns\n",
    "ferr_boxcox=stats.boxcox(df['salary'])[0]\n",
    "print(pd.Series(ferr_boxcox).skew())\n",
    "# ferr_boxcox\n",
    "# sns.distplot(salary)\n",
    "sns.distplot(ferr_boxcox)\n",
    "# for i in skewed_features:\n",
    "# df[i],lmbda=boxcox(df[i], lmbda= None )"
   ]
  },
  {
   "cell_type": "code",
   "execution_count": 396,
   "metadata": {},
   "outputs": [
    {
     "ename": "ValueError",
     "evalue": "not enough values to unpack (expected 3, got 2)",
     "output_type": "error",
     "traceback": [
      "\u001b[1;31m---------------------------------------------------------------------------\u001b[0m",
      "\u001b[1;31mValueError\u001b[0m                                Traceback (most recent call last)",
      "\u001b[1;32m<ipython-input-396-1d0eb39d9575>\u001b[0m in \u001b[0;36m<module>\u001b[1;34m\u001b[0m\n\u001b[0;32m      3\u001b[0m \u001b[1;33m\u001b[0m\u001b[0m\n\u001b[0;32m      4\u001b[0m \u001b[0muntest\u001b[0m \u001b[1;33m=\u001b[0m \u001b[0mRandomUnderSampler\u001b[0m\u001b[1;33m(\u001b[0m\u001b[1;33m)\u001b[0m\u001b[1;33m\u001b[0m\u001b[1;33m\u001b[0m\u001b[0m\n\u001b[1;32m----> 5\u001b[1;33m \u001b[0mX_untest\u001b[0m\u001b[1;33m,\u001b[0m \u001b[0my_untest\u001b[0m\u001b[1;33m,\u001b[0m \u001b[0mid_untest\u001b[0m \u001b[1;33m=\u001b[0m \u001b[0muntest\u001b[0m\u001b[1;33m.\u001b[0m\u001b[0mfit_sample\u001b[0m\u001b[1;33m(\u001b[0m\u001b[0mtest_X\u001b[0m\u001b[1;33m,\u001b[0m \u001b[0mtest_y\u001b[0m\u001b[1;33m)\u001b[0m\u001b[1;33m\u001b[0m\u001b[1;33m\u001b[0m\u001b[0m\n\u001b[0m\u001b[0;32m      6\u001b[0m \u001b[1;33m\u001b[0m\u001b[0m\n\u001b[0;32m      7\u001b[0m \u001b[0mpd\u001b[0m\u001b[1;33m.\u001b[0m\u001b[0mSeries\u001b[0m\u001b[1;33m(\u001b[0m\u001b[0my_untest\u001b[0m\u001b[1;33m)\u001b[0m\u001b[1;33m.\u001b[0m\u001b[0mvalue_counts\u001b[0m\u001b[1;33m(\u001b[0m\u001b[1;33m)\u001b[0m\u001b[1;33m.\u001b[0m\u001b[0mplot\u001b[0m\u001b[1;33m(\u001b[0m\u001b[0mkind\u001b[0m\u001b[1;33m=\u001b[0m\u001b[1;34m'bar'\u001b[0m\u001b[1;33m)\u001b[0m \u001b[1;31m# equal sampling now (check)\u001b[0m\u001b[1;33m\u001b[0m\u001b[1;33m\u001b[0m\u001b[0m\n",
      "\u001b[1;31mValueError\u001b[0m: not enough values to unpack (expected 3, got 2)"
     ]
    }
   ],
   "source": [
    "\n",
    "# make sure test set is balanced\n",
    "from imblearn.under_sampling import RandomUnderSampler\n",
    "\n",
    "untest = RandomUnderSampler()\n",
    "X_untest, y_untest, id_untest = untest.fit_sample(test_X, test_y)\n",
    "\n",
    "pd.Series(y_untest).value_counts().plot(kind='bar') # equal sampling now (check)"
   ]
  },
  {
   "cell_type": "code",
   "execution_count": 310,
   "metadata": {},
   "outputs": [
    {
     "ename": "ValueError",
     "evalue": "could not convert string to float: 'wudi'",
     "output_type": "error",
     "traceback": [
      "\u001b[1;31m---------------------------------------------------------------------------\u001b[0m",
      "\u001b[1;31mValueError\u001b[0m                                Traceback (most recent call last)",
      "\u001b[1;32m<ipython-input-310-e3ee0a8666d1>\u001b[0m in \u001b[0;36m<module>\u001b[1;34m\u001b[0m\n\u001b[0;32m      7\u001b[0m                            bootstrap=True, criterion='gini')\n\u001b[0;32m      8\u001b[0m \u001b[1;33m\u001b[0m\u001b[0m\n\u001b[1;32m----> 9\u001b[1;33m \u001b[0mBest_RFC\u001b[0m\u001b[1;33m.\u001b[0m\u001b[0mfit\u001b[0m\u001b[1;33m(\u001b[0m\u001b[0mtrain_X\u001b[0m\u001b[1;33m,\u001b[0m \u001b[0mtrain_y\u001b[0m\u001b[1;33m)\u001b[0m\u001b[1;33m\u001b[0m\u001b[1;33m\u001b[0m\u001b[0m\n\u001b[0m",
      "\u001b[1;32m~\\anaconda3\\lib\\site-packages\\sklearn\\ensemble\\_forest.py\u001b[0m in \u001b[0;36mfit\u001b[1;34m(self, X, y, sample_weight)\u001b[0m\n\u001b[0;32m    302\u001b[0m             )\n\u001b[0;32m    303\u001b[0m         X, y = self._validate_data(X, y, multi_output=True,\n\u001b[1;32m--> 304\u001b[1;33m                                    accept_sparse=\"csc\", dtype=DTYPE)\n\u001b[0m\u001b[0;32m    305\u001b[0m         \u001b[1;32mif\u001b[0m \u001b[0msample_weight\u001b[0m \u001b[1;32mis\u001b[0m \u001b[1;32mnot\u001b[0m \u001b[1;32mNone\u001b[0m\u001b[1;33m:\u001b[0m\u001b[1;33m\u001b[0m\u001b[1;33m\u001b[0m\u001b[0m\n\u001b[0;32m    306\u001b[0m             \u001b[0msample_weight\u001b[0m \u001b[1;33m=\u001b[0m \u001b[0m_check_sample_weight\u001b[0m\u001b[1;33m(\u001b[0m\u001b[0msample_weight\u001b[0m\u001b[1;33m,\u001b[0m \u001b[0mX\u001b[0m\u001b[1;33m)\u001b[0m\u001b[1;33m\u001b[0m\u001b[1;33m\u001b[0m\u001b[0m\n",
      "\u001b[1;32m~\\anaconda3\\lib\\site-packages\\sklearn\\base.py\u001b[0m in \u001b[0;36m_validate_data\u001b[1;34m(self, X, y, reset, validate_separately, **check_params)\u001b[0m\n\u001b[0;32m    430\u001b[0m                 \u001b[0my\u001b[0m \u001b[1;33m=\u001b[0m \u001b[0mcheck_array\u001b[0m\u001b[1;33m(\u001b[0m\u001b[0my\u001b[0m\u001b[1;33m,\u001b[0m \u001b[1;33m**\u001b[0m\u001b[0mcheck_y_params\u001b[0m\u001b[1;33m)\u001b[0m\u001b[1;33m\u001b[0m\u001b[1;33m\u001b[0m\u001b[0m\n\u001b[0;32m    431\u001b[0m             \u001b[1;32melse\u001b[0m\u001b[1;33m:\u001b[0m\u001b[1;33m\u001b[0m\u001b[1;33m\u001b[0m\u001b[0m\n\u001b[1;32m--> 432\u001b[1;33m                 \u001b[0mX\u001b[0m\u001b[1;33m,\u001b[0m \u001b[0my\u001b[0m \u001b[1;33m=\u001b[0m \u001b[0mcheck_X_y\u001b[0m\u001b[1;33m(\u001b[0m\u001b[0mX\u001b[0m\u001b[1;33m,\u001b[0m \u001b[0my\u001b[0m\u001b[1;33m,\u001b[0m \u001b[1;33m**\u001b[0m\u001b[0mcheck_params\u001b[0m\u001b[1;33m)\u001b[0m\u001b[1;33m\u001b[0m\u001b[1;33m\u001b[0m\u001b[0m\n\u001b[0m\u001b[0;32m    433\u001b[0m             \u001b[0mout\u001b[0m \u001b[1;33m=\u001b[0m \u001b[0mX\u001b[0m\u001b[1;33m,\u001b[0m \u001b[0my\u001b[0m\u001b[1;33m\u001b[0m\u001b[1;33m\u001b[0m\u001b[0m\n\u001b[0;32m    434\u001b[0m \u001b[1;33m\u001b[0m\u001b[0m\n",
      "\u001b[1;32m~\\anaconda3\\lib\\site-packages\\sklearn\\utils\\validation.py\u001b[0m in \u001b[0;36minner_f\u001b[1;34m(*args, **kwargs)\u001b[0m\n\u001b[0;32m     70\u001b[0m                           FutureWarning)\n\u001b[0;32m     71\u001b[0m         \u001b[0mkwargs\u001b[0m\u001b[1;33m.\u001b[0m\u001b[0mupdate\u001b[0m\u001b[1;33m(\u001b[0m\u001b[1;33m{\u001b[0m\u001b[0mk\u001b[0m\u001b[1;33m:\u001b[0m \u001b[0marg\u001b[0m \u001b[1;32mfor\u001b[0m \u001b[0mk\u001b[0m\u001b[1;33m,\u001b[0m \u001b[0marg\u001b[0m \u001b[1;32min\u001b[0m \u001b[0mzip\u001b[0m\u001b[1;33m(\u001b[0m\u001b[0msig\u001b[0m\u001b[1;33m.\u001b[0m\u001b[0mparameters\u001b[0m\u001b[1;33m,\u001b[0m \u001b[0margs\u001b[0m\u001b[1;33m)\u001b[0m\u001b[1;33m}\u001b[0m\u001b[1;33m)\u001b[0m\u001b[1;33m\u001b[0m\u001b[1;33m\u001b[0m\u001b[0m\n\u001b[1;32m---> 72\u001b[1;33m         \u001b[1;32mreturn\u001b[0m \u001b[0mf\u001b[0m\u001b[1;33m(\u001b[0m\u001b[1;33m**\u001b[0m\u001b[0mkwargs\u001b[0m\u001b[1;33m)\u001b[0m\u001b[1;33m\u001b[0m\u001b[1;33m\u001b[0m\u001b[0m\n\u001b[0m\u001b[0;32m     73\u001b[0m     \u001b[1;32mreturn\u001b[0m \u001b[0minner_f\u001b[0m\u001b[1;33m\u001b[0m\u001b[1;33m\u001b[0m\u001b[0m\n\u001b[0;32m     74\u001b[0m \u001b[1;33m\u001b[0m\u001b[0m\n",
      "\u001b[1;32m~\\anaconda3\\lib\\site-packages\\sklearn\\utils\\validation.py\u001b[0m in \u001b[0;36mcheck_X_y\u001b[1;34m(X, y, accept_sparse, accept_large_sparse, dtype, order, copy, force_all_finite, ensure_2d, allow_nd, multi_output, ensure_min_samples, ensure_min_features, y_numeric, estimator)\u001b[0m\n\u001b[0;32m    800\u001b[0m                     \u001b[0mensure_min_samples\u001b[0m\u001b[1;33m=\u001b[0m\u001b[0mensure_min_samples\u001b[0m\u001b[1;33m,\u001b[0m\u001b[1;33m\u001b[0m\u001b[1;33m\u001b[0m\u001b[0m\n\u001b[0;32m    801\u001b[0m                     \u001b[0mensure_min_features\u001b[0m\u001b[1;33m=\u001b[0m\u001b[0mensure_min_features\u001b[0m\u001b[1;33m,\u001b[0m\u001b[1;33m\u001b[0m\u001b[1;33m\u001b[0m\u001b[0m\n\u001b[1;32m--> 802\u001b[1;33m                     estimator=estimator)\n\u001b[0m\u001b[0;32m    803\u001b[0m     \u001b[1;32mif\u001b[0m \u001b[0mmulti_output\u001b[0m\u001b[1;33m:\u001b[0m\u001b[1;33m\u001b[0m\u001b[1;33m\u001b[0m\u001b[0m\n\u001b[0;32m    804\u001b[0m         y = check_array(y, accept_sparse='csr', force_all_finite=True,\n",
      "\u001b[1;32m~\\anaconda3\\lib\\site-packages\\sklearn\\utils\\validation.py\u001b[0m in \u001b[0;36minner_f\u001b[1;34m(*args, **kwargs)\u001b[0m\n\u001b[0;32m     70\u001b[0m                           FutureWarning)\n\u001b[0;32m     71\u001b[0m         \u001b[0mkwargs\u001b[0m\u001b[1;33m.\u001b[0m\u001b[0mupdate\u001b[0m\u001b[1;33m(\u001b[0m\u001b[1;33m{\u001b[0m\u001b[0mk\u001b[0m\u001b[1;33m:\u001b[0m \u001b[0marg\u001b[0m \u001b[1;32mfor\u001b[0m \u001b[0mk\u001b[0m\u001b[1;33m,\u001b[0m \u001b[0marg\u001b[0m \u001b[1;32min\u001b[0m \u001b[0mzip\u001b[0m\u001b[1;33m(\u001b[0m\u001b[0msig\u001b[0m\u001b[1;33m.\u001b[0m\u001b[0mparameters\u001b[0m\u001b[1;33m,\u001b[0m \u001b[0margs\u001b[0m\u001b[1;33m)\u001b[0m\u001b[1;33m}\u001b[0m\u001b[1;33m)\u001b[0m\u001b[1;33m\u001b[0m\u001b[1;33m\u001b[0m\u001b[0m\n\u001b[1;32m---> 72\u001b[1;33m         \u001b[1;32mreturn\u001b[0m \u001b[0mf\u001b[0m\u001b[1;33m(\u001b[0m\u001b[1;33m**\u001b[0m\u001b[0mkwargs\u001b[0m\u001b[1;33m)\u001b[0m\u001b[1;33m\u001b[0m\u001b[1;33m\u001b[0m\u001b[0m\n\u001b[0m\u001b[0;32m     73\u001b[0m     \u001b[1;32mreturn\u001b[0m \u001b[0minner_f\u001b[0m\u001b[1;33m\u001b[0m\u001b[1;33m\u001b[0m\u001b[0m\n\u001b[0;32m     74\u001b[0m \u001b[1;33m\u001b[0m\u001b[0m\n",
      "\u001b[1;32m~\\anaconda3\\lib\\site-packages\\sklearn\\utils\\validation.py\u001b[0m in \u001b[0;36mcheck_array\u001b[1;34m(array, accept_sparse, accept_large_sparse, dtype, order, copy, force_all_finite, ensure_2d, allow_nd, ensure_min_samples, ensure_min_features, estimator)\u001b[0m\n\u001b[0;32m    596\u001b[0m                     \u001b[0marray\u001b[0m \u001b[1;33m=\u001b[0m \u001b[0marray\u001b[0m\u001b[1;33m.\u001b[0m\u001b[0mastype\u001b[0m\u001b[1;33m(\u001b[0m\u001b[0mdtype\u001b[0m\u001b[1;33m,\u001b[0m \u001b[0mcasting\u001b[0m\u001b[1;33m=\u001b[0m\u001b[1;34m\"unsafe\"\u001b[0m\u001b[1;33m,\u001b[0m \u001b[0mcopy\u001b[0m\u001b[1;33m=\u001b[0m\u001b[1;32mFalse\u001b[0m\u001b[1;33m)\u001b[0m\u001b[1;33m\u001b[0m\u001b[1;33m\u001b[0m\u001b[0m\n\u001b[0;32m    597\u001b[0m                 \u001b[1;32melse\u001b[0m\u001b[1;33m:\u001b[0m\u001b[1;33m\u001b[0m\u001b[1;33m\u001b[0m\u001b[0m\n\u001b[1;32m--> 598\u001b[1;33m                     \u001b[0marray\u001b[0m \u001b[1;33m=\u001b[0m \u001b[0mnp\u001b[0m\u001b[1;33m.\u001b[0m\u001b[0masarray\u001b[0m\u001b[1;33m(\u001b[0m\u001b[0marray\u001b[0m\u001b[1;33m,\u001b[0m \u001b[0morder\u001b[0m\u001b[1;33m=\u001b[0m\u001b[0morder\u001b[0m\u001b[1;33m,\u001b[0m \u001b[0mdtype\u001b[0m\u001b[1;33m=\u001b[0m\u001b[0mdtype\u001b[0m\u001b[1;33m)\u001b[0m\u001b[1;33m\u001b[0m\u001b[1;33m\u001b[0m\u001b[0m\n\u001b[0m\u001b[0;32m    599\u001b[0m             \u001b[1;32mexcept\u001b[0m \u001b[0mComplexWarning\u001b[0m\u001b[1;33m:\u001b[0m\u001b[1;33m\u001b[0m\u001b[1;33m\u001b[0m\u001b[0m\n\u001b[0;32m    600\u001b[0m                 raise ValueError(\"Complex data not supported\\n\"\n",
      "\u001b[1;32m~\\anaconda3\\lib\\site-packages\\numpy\\core\\_asarray.py\u001b[0m in \u001b[0;36masarray\u001b[1;34m(a, dtype, order)\u001b[0m\n\u001b[0;32m     83\u001b[0m \u001b[1;33m\u001b[0m\u001b[0m\n\u001b[0;32m     84\u001b[0m     \"\"\"\n\u001b[1;32m---> 85\u001b[1;33m     \u001b[1;32mreturn\u001b[0m \u001b[0marray\u001b[0m\u001b[1;33m(\u001b[0m\u001b[0ma\u001b[0m\u001b[1;33m,\u001b[0m \u001b[0mdtype\u001b[0m\u001b[1;33m,\u001b[0m \u001b[0mcopy\u001b[0m\u001b[1;33m=\u001b[0m\u001b[1;32mFalse\u001b[0m\u001b[1;33m,\u001b[0m \u001b[0morder\u001b[0m\u001b[1;33m=\u001b[0m\u001b[0morder\u001b[0m\u001b[1;33m)\u001b[0m\u001b[1;33m\u001b[0m\u001b[1;33m\u001b[0m\u001b[0m\n\u001b[0m\u001b[0;32m     86\u001b[0m \u001b[1;33m\u001b[0m\u001b[0m\n\u001b[0;32m     87\u001b[0m \u001b[1;33m\u001b[0m\u001b[0m\n",
      "\u001b[1;31mValueError\u001b[0m: could not convert string to float: 'wudi'"
     ]
    }
   ],
   "source": [
    "# prior to resampling\n",
    "from sklearn.ensemble import RandomForestClassifier\n",
    "\n",
    "# the model prior to hyperparameter optimization\n",
    "Best_RFC=RandomForestClassifier(n_estimators=4000, max_features='auto', max_depth=20,\n",
    "                           min_samples_split=5, min_samples_leaf=1,\n",
    "                           bootstrap=True, criterion='gini')\n",
    "\n",
    "Best_RFC.fit(train_X, train_y)\n",
    "\n",
    "# could not convert string to float:??"
   ]
  },
  {
   "cell_type": "code",
   "execution_count": 390,
   "metadata": {},
   "outputs": [
    {
     "ename": "NameError",
     "evalue": "name 'y_rus' is not defined",
     "output_type": "error",
     "traceback": [
      "\u001b[1;31m---------------------------------------------------------------------------\u001b[0m",
      "\u001b[1;31mNameError\u001b[0m                                 Traceback (most recent call last)",
      "\u001b[1;32m<ipython-input-390-fc601565d981>\u001b[0m in \u001b[0;36m<module>\u001b[1;34m\u001b[0m\n\u001b[0;32m     15\u001b[0m \u001b[1;33m\u001b[0m\u001b[0m\n\u001b[0;32m     16\u001b[0m \u001b[0mfig\u001b[0m \u001b[1;33m=\u001b[0m \u001b[0mplt\u001b[0m\u001b[1;33m.\u001b[0m\u001b[0mfigure\u001b[0m\u001b[1;33m(\u001b[0m\u001b[1;33m)\u001b[0m\u001b[1;33m\u001b[0m\u001b[1;33m\u001b[0m\u001b[0m\n\u001b[1;32m---> 17\u001b[1;33m \u001b[0mplot\u001b[0m \u001b[1;33m=\u001b[0m \u001b[0mpd\u001b[0m\u001b[1;33m.\u001b[0m\u001b[0mSeries\u001b[0m\u001b[1;33m(\u001b[0m\u001b[0my_rus\u001b[0m\u001b[1;33m)\u001b[0m\u001b[1;33m.\u001b[0m\u001b[0mvalue_counts\u001b[0m\u001b[1;33m(\u001b[0m\u001b[1;33m)\u001b[0m\u001b[1;33m.\u001b[0m\u001b[0mplot\u001b[0m\u001b[1;33m(\u001b[0m\u001b[0mkind\u001b[0m\u001b[1;33m=\u001b[0m\u001b[1;34m'bar'\u001b[0m\u001b[1;33m,\u001b[0m \u001b[0mcolor\u001b[0m\u001b[1;33m=\u001b[0m\u001b[1;33m[\u001b[0m\u001b[1;34m'green'\u001b[0m\u001b[1;33m,\u001b[0m \u001b[1;34m'blue'\u001b[0m\u001b[1;33m,\u001b[0m \u001b[1;34m'red'\u001b[0m\u001b[1;33m]\u001b[0m\u001b[1;33m)\u001b[0m\u001b[1;33m\u001b[0m\u001b[1;33m\u001b[0m\u001b[0m\n\u001b[0m\u001b[0;32m     18\u001b[0m \u001b[0mfig\u001b[0m \u001b[1;33m=\u001b[0m \u001b[0mplot\u001b[0m\u001b[1;33m.\u001b[0m\u001b[0mget_figure\u001b[0m\u001b[1;33m(\u001b[0m\u001b[1;33m)\u001b[0m\u001b[1;33m\u001b[0m\u001b[1;33m\u001b[0m\u001b[0m\n\u001b[0;32m     19\u001b[0m \u001b[0mfig\u001b[0m\u001b[1;33m.\u001b[0m\u001b[0msavefig\u001b[0m\u001b[1;33m(\u001b[0m\u001b[1;34m'oversamp.png'\u001b[0m\u001b[1;33m,\u001b[0m \u001b[0mdpi\u001b[0m\u001b[1;33m=\u001b[0m\u001b[1;36m300\u001b[0m\u001b[1;33m)\u001b[0m\u001b[1;33m\u001b[0m\u001b[1;33m\u001b[0m\u001b[0m\n",
      "\u001b[1;31mNameError\u001b[0m: name 'y_rus' is not defined"
     ]
    },
    {
     "data": {
      "image/png": "[encoded data removed]",
      "text/plain": [
       "<Figure size 432x288 with 1 Axes>"
      ]
     },
     "metadata": {
      "needs_background": "light"
     },
     "output_type": "display_data"
    },
    {
     "data": {
      "text/plain": [
       "<Figure size 432x288 with 0 Axes>"
      ]
     },
     "metadata": {},
     "output_type": "display_data"
    }
   ],
   "source": [
    "\n",
    "########### Undersampling of common classes \n",
    "import matplotlib.pyplot as plt\n",
    "fig = plt.figure()\n",
    "plot= pd.Series(train_y).value_counts().plot(kind='bar', color=['green', 'blue', 'red']) # unbalanced design\n",
    "fig = plot.get_figure()\n",
    "fig.savefig('Imbalanced.png', dpi=300) \n",
    "\n",
    "\n",
    "from imblearn.under_sampling import RandomUnderSampler\n",
    "rus = RandomUnderSampler()\n",
    "X_rus, y_rus, id_rus = rus.fit_sample(train_X, train_y)\n",
    "\n",
    "pd.Series(y_rus).value_counts().plot('bar') # equal sampling now (check)\n",
    "# #Use `Series.plot(kind='bar')` instead of `Series.plot('bar',)`.\n",
    "\n",
    "fig = plt.figure()\n",
    "plot = pd.Series(y_rus).value_counts().plot(kind='bar', color=['green', 'blue', 'red'])  \n",
    "fig = plot.get_figure()\n",
    "fig.savefig('oversamp.png', dpi=300) "
   ]
  },
  {
   "cell_type": "code",
   "execution_count": 392,
   "metadata": {},
   "outputs": [
    {
     "data": {
      "image/png": "[encoded data removed]",
      "text/plain": [
       "<Figure size 432x288 with 1 Axes>"
      ]
     },
     "metadata": {
      "needs_background": "light"
     },
     "output_type": "display_data"
    }
   ],
   "source": [
    "\n",
    "######## Oversampling of rare classes  ######################\n",
    "# lets try oversampling too\n",
    "from imblearn.over_sampling import RandomOverSampler\n",
    "ros = RandomOverSampler()\n",
    "X_ros, y_ros = ros.fit_sample(train_X, train_y)\n",
    "\n",
    "# equal sampling now (check)\n",
    "fig = plt.figure()\n",
    "plot = pd.Series(y_ros).value_counts().plot(kind='bar', color=['green', 'blue', 'red'])  \n",
    "fig = plot.get_figure()\n",
    "fig.savefig('oversamp.png', dpi=300) \n"
   ]
  },
  {
   "cell_type": "code",
   "execution_count": 393,
   "metadata": {},
   "outputs": [
    {
     "ename": "NameError",
     "evalue": "name 'X_untest' is not defined",
     "output_type": "error",
     "traceback": [
      "\u001b[1;31m---------------------------------------------------------------------------\u001b[0m",
      "\u001b[1;31mNameError\u001b[0m                                 Traceback (most recent call last)",
      "\u001b[1;32m<ipython-input-393-827cb234af61>\u001b[0m in \u001b[0;36m<module>\u001b[1;34m\u001b[0m\n\u001b[0;32m      3\u001b[0m \u001b[1;33m\u001b[0m\u001b[0m\n\u001b[0;32m      4\u001b[0m \u001b[1;31m# predict test Y values\u001b[0m\u001b[1;33m\u001b[0m\u001b[1;33m\u001b[0m\u001b[1;33m\u001b[0m\u001b[0m\n\u001b[1;32m----> 5\u001b[1;33m \u001b[0mypred\u001b[0m\u001b[1;33m=\u001b[0m\u001b[0mBest_RFC\u001b[0m\u001b[1;33m.\u001b[0m\u001b[0mpredict\u001b[0m\u001b[1;33m(\u001b[0m\u001b[0mX_untest\u001b[0m\u001b[1;33m)\u001b[0m\u001b[1;33m\u001b[0m\u001b[1;33m\u001b[0m\u001b[0m\n\u001b[0m\u001b[0;32m      6\u001b[0m \u001b[1;33m\u001b[0m\u001b[0m\n\u001b[0;32m      7\u001b[0m \u001b[1;31m# apply to test set\u001b[0m\u001b[1;33m\u001b[0m\u001b[1;33m\u001b[0m\u001b[1;33m\u001b[0m\u001b[0m\n",
      "\u001b[1;31mNameError\u001b[0m: name 'X_untest' is not defined"
     ]
    }
   ],
   "source": [
    "\n",
    "# fit best model to training dataset\n",
    "Best_RFC.fit(X_ros, y_ros)\n",
    "\n",
    "# predict test Y values\n",
    "ypred=Best_RFC.predict(X_untest)\n",
    "\n",
    "# apply to test set\n",
    "from sklearn import metrics\n",
    "print(\"Accuracy:\",metrics.accuracy_score(y_untest, ypred))\n",
    "\n",
    "# confusion matrix to evaluate predictions\n",
    "pd.crosstab(y_untest, ypred, rownames=['Observed'], colnames=['Predicted'])\n",
    "\n"
   ]
  },
  {
   "cell_type": "code",
   "execution_count": 395,
   "metadata": {},
   "outputs": [
    {
     "data": {
      "text/plain": [
       "<matplotlib.axes._subplots.AxesSubplot at 0x736a46648>"
      ]
     },
     "execution_count": 395,
     "metadata": {},
     "output_type": "execute_result"
    },
    {
     "data": {
      "image/png": "[encoded data removed]",
      "text/plain": [
       "<Figure size 432x288 with 1 Axes>"
      ]
     },
     "metadata": {
      "needs_background": "light"
     },
     "output_type": "display_data"
    }
   ],
   "source": [
    "########## Using SMOTE ##############\n",
    "from imblearn.over_sampling import SMOTE\n",
    "smot = SMOTE()\n",
    "X_smot, y_smot = smot.fit_sample(train_X, train_y)\n",
    "\n",
    "\n",
    "pd.Series(y_smot).value_counts().plot(kind='bar') # equal sampling now (check)"
   ]
  },
  {
   "cell_type": "code",
   "execution_count": null,
   "metadata": {},
   "outputs": [],
   "source": []
  }
 ],
 "metadata": {
  "kernelspec": {
   "display_name": "Python 3",
   "language": "python",
   "name": "python3"
  },
  "language_info": {
   "codemirror_mode": {
    "name": "ipython",
    "version": 3
   },
   "file_extension": ".py",
   "mimetype": "text/x-python",
   "name": "python",
   "nbconvert_exporter": "python",
   "pygments_lexer": "ipython3",
   "version": "3.7.6"
  }
 },
 "nbformat": 4,
 "nbformat_minor": 4
}
